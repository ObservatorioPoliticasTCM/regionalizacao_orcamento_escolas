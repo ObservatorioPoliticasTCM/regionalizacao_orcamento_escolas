{
 "cells": [
  {
   "cell_type": "code",
   "execution_count": null,
   "id": "680b39ed-559c-411b-93ea-4a95ebce2132",
   "metadata": {},
   "outputs": [],
   "source": [
    "import pandas as pd\n",
    "import matplotlib.pyplot as plt\n",
    "import geopandas as gpd\n",
    "import os\n",
    "import numpy as np"
   ]
  },
  {
   "cell_type": "code",
   "execution_count": null,
   "id": "f4762781-55af-42fd-a7bf-53d275b1631f",
   "metadata": {},
   "outputs": [],
   "source": [
    "pd.set_option(\"display.max_columns\", None)"
   ]
  },
  {
   "cell_type": "code",
   "execution_count": null,
   "id": "8d3036ec-e98b-45fc-aa7a-f924c64b67c1",
   "metadata": {},
   "outputs": [],
   "source": [
    "MULTIPLI_PARCERIAS = 6"
   ]
  },
  {
   "cell_type": "markdown",
   "id": "0cac676c-e049-4487-b0f7-b5a6a55d6851",
   "metadata": {},
   "source": [
    "## Abrindo planilha parcerias Marian"
   ]
  },
  {
   "cell_type": "code",
   "execution_count": null,
   "id": "0ed53c4e-cfdd-41fb-8895-e505b591d03e",
   "metadata": {},
   "outputs": [],
   "source": [
    "parcerias = pd.read_excel('original_data/Cópia de parcerias122020-2.xlsx')"
   ]
  },
  {
   "cell_type": "code",
   "execution_count": null,
   "id": "7ba94a87-27da-4f1e-95f5-83fa1740ccc2",
   "metadata": {},
   "outputs": [],
   "source": [
    "parcerias.sample(5)"
   ]
  },
  {
   "cell_type": "code",
   "execution_count": null,
   "id": "d113ff52-b2cf-4dd9-9081-8be4d9b6c70a",
   "metadata": {},
   "outputs": [],
   "source": [
    "parcerias.info()"
   ]
  },
  {
   "cell_type": "markdown",
   "id": "08407cd8-ae70-4b83-8970-2eb684315ffc",
   "metadata": {},
   "source": [
    "Filtro situacao parcerias aprovada"
   ]
  },
  {
   "cell_type": "code",
   "execution_count": null,
   "id": "839fb085-1581-45f6-a155-e7346dbf5f79",
   "metadata": {},
   "outputs": [],
   "source": [
    "parcerias['situacao'].unique()"
   ]
  },
  {
   "cell_type": "code",
   "execution_count": null,
   "id": "5cc20a3f-a2c1-4a05-b39e-b73694a1fe20",
   "metadata": {},
   "outputs": [],
   "source": [
    "filtro_aprovados = parcerias['situacao']=='Aprovado'"
   ]
  },
  {
   "cell_type": "code",
   "execution_count": null,
   "id": "46a4f96a-84c1-416f-a533-54a196c0b63d",
   "metadata": {},
   "outputs": [],
   "source": [
    "filtro_aprovados"
   ]
  },
  {
   "cell_type": "code",
   "execution_count": null,
   "id": "ce19036f-d786-4cda-9c84-3071fe65842d",
   "metadata": {},
   "outputs": [],
   "source": [
    "len(parcerias)"
   ]
  },
  {
   "cell_type": "code",
   "execution_count": null,
   "id": "392fa33e-e05c-4c87-8aab-0d8a23c1c22f",
   "metadata": {},
   "outputs": [],
   "source": [
    "parcerias = parcerias[filtro_aprovados].copy().reset_index(drop=True)"
   ]
  },
  {
   "cell_type": "code",
   "execution_count": null,
   "id": "e9cb4c77-d290-464d-894e-9ef7e99d7f3f",
   "metadata": {},
   "outputs": [],
   "source": [
    "parcerias.sample(5)"
   ]
  },
  {
   "cell_type": "code",
   "execution_count": null,
   "id": "a4c448d9-85fb-4a9d-8b06-25d9c430be37",
   "metadata": {},
   "outputs": [],
   "source": [
    "parcerias['valor_mensal'].isnull().sum()"
   ]
  },
  {
   "cell_type": "code",
   "execution_count": null,
   "id": "0fd31059-b4fb-4518-a349-df6f186b9e67",
   "metadata": {},
   "outputs": [],
   "source": [
    "filtro_valor_mensal = parcerias['valor_mensal'].isnull()"
   ]
  },
  {
   "cell_type": "code",
   "execution_count": null,
   "id": "c6e150e2-0b2a-4002-8f1d-177ee9fde33b",
   "metadata": {},
   "outputs": [],
   "source": [
    "parcerias = parcerias[~filtro_valor_mensal].copy().reset_index(drop=True)"
   ]
  },
  {
   "cell_type": "code",
   "execution_count": null,
   "id": "2b7ff854-50c7-4426-9e2a-19806f300423",
   "metadata": {},
   "outputs": [],
   "source": [
    "parcerias['valor_mensal'].isnull().sum()"
   ]
  },
  {
   "cell_type": "code",
   "execution_count": null,
   "id": "c0709325-6fae-45f7-8eea-6446ba3741fe",
   "metadata": {},
   "outputs": [],
   "source": [
    "colunas = ['codigo_escola', 'valor_mensal']"
   ]
  },
  {
   "cell_type": "code",
   "execution_count": null,
   "id": "13ecc212-cdac-4b21-9c93-156c6c276ab5",
   "metadata": {},
   "outputs": [],
   "source": [
    "parcerias = parcerias[colunas].copy()"
   ]
  },
  {
   "cell_type": "code",
   "execution_count": null,
   "id": "26c0fcf3-28ab-477a-b318-53e9d664fd0e",
   "metadata": {},
   "outputs": [],
   "source": [
    "parcerias"
   ]
  },
  {
   "cell_type": "code",
   "execution_count": null,
   "id": "3d161c2b-270c-41d1-9dd6-845fbce206b2",
   "metadata": {},
   "outputs": [],
   "source": [
    "parcerias.info()"
   ]
  },
  {
   "cell_type": "markdown",
   "id": "407b6b9f-2cf3-4510-b524-c2c14f339f3a",
   "metadata": {},
   "source": [
    "Pegar distritos das escolas"
   ]
  },
  {
   "cell_type": "code",
   "execution_count": null,
   "id": "e1998101-e341-4615-8f17-54e7cd5a0e40",
   "metadata": {},
   "outputs": [],
   "source": [
    "escolas = pd.read_excel('original_data/endereços_escolas.xlsx')"
   ]
  },
  {
   "cell_type": "code",
   "execution_count": null,
   "id": "9d851e74-c29f-4271-92b1-2502d0739043",
   "metadata": {},
   "outputs": [],
   "source": [
    "escolas.info()"
   ]
  },
  {
   "cell_type": "code",
   "execution_count": null,
   "id": "f4d46859-f359-43f0-b544-d2b1a6e9d697",
   "metadata": {},
   "outputs": [],
   "source": [
    "escolas.sample(5)"
   ]
  },
  {
   "cell_type": "code",
   "execution_count": null,
   "id": "d96cbc7f-c3e1-4968-9552-b4bf87e1de76",
   "metadata": {},
   "outputs": [],
   "source": [
    "colunas = ['distrito', 'codesc']"
   ]
  },
  {
   "cell_type": "code",
   "execution_count": null,
   "id": "9b19be70-b27b-41af-965d-ff0d17af8906",
   "metadata": {},
   "outputs": [],
   "source": [
    "escolas = escolas[colunas].copy()"
   ]
  },
  {
   "cell_type": "markdown",
   "id": "1d575aeb-d773-4cda-8742-b9e2ad5b522a",
   "metadata": {},
   "source": [
    "Join escolas"
   ]
  },
  {
   "cell_type": "code",
   "execution_count": null,
   "id": "eee31b33-ba71-4f30-8ef3-57f2fc0482ae",
   "metadata": {},
   "outputs": [],
   "source": [
    "escolas.keys()"
   ]
  },
  {
   "cell_type": "code",
   "execution_count": null,
   "id": "423ca79e-bcea-4b20-99c0-4c23bbdc6ecc",
   "metadata": {},
   "outputs": [],
   "source": [
    "len(escolas)"
   ]
  },
  {
   "cell_type": "code",
   "execution_count": null,
   "id": "1a9278c5-19d5-4060-8d4b-4856fde42123",
   "metadata": {},
   "outputs": [],
   "source": [
    "len(parcerias)"
   ]
  },
  {
   "cell_type": "code",
   "execution_count": null,
   "id": "bb8fae74-7477-4c07-b68e-2b8c5c7bdb76",
   "metadata": {},
   "outputs": [],
   "source": [
    "parcerias.keys()"
   ]
  },
  {
   "cell_type": "code",
   "execution_count": null,
   "id": "62a95401-1504-42f6-a0ca-fedd45ea81c7",
   "metadata": {},
   "outputs": [],
   "source": [
    "parcerias.dtypes"
   ]
  },
  {
   "cell_type": "code",
   "execution_count": null,
   "id": "68c15f76-09d8-4611-a6e4-7bca0b6648bc",
   "metadata": {},
   "outputs": [],
   "source": [
    "escolas.dtypes"
   ]
  },
  {
   "cell_type": "code",
   "execution_count": null,
   "id": "36b15da4-1789-4546-a8a9-b42fa056e883",
   "metadata": {},
   "outputs": [],
   "source": [
    "escolas.keys()"
   ]
  },
  {
   "cell_type": "code",
   "execution_count": null,
   "id": "5e948e11-1bc7-4922-bc00-c36634b6f80b",
   "metadata": {},
   "outputs": [],
   "source": [
    "def arrumar_digitos(item):\n",
    "    \n",
    "    item = str(item)\n",
    "    \n",
    "    while len(item)<6:\n",
    "        item = '0' + item\n",
    "    \n",
    "    return item"
   ]
  },
  {
   "cell_type": "code",
   "execution_count": null,
   "id": "cded3990-bbc0-4a19-b12d-e10947b1481a",
   "metadata": {},
   "outputs": [],
   "source": [
    "escolas['codesc'] = escolas['codesc'].apply(arrumar_digitos)"
   ]
  },
  {
   "cell_type": "code",
   "execution_count": null,
   "id": "7c22b28a-397f-4126-b5d3-d117377d3a30",
   "metadata": {},
   "outputs": [],
   "source": [
    "parcerias['codigo_escola'] = parcerias['codigo_escola'].astype(int)"
   ]
  },
  {
   "cell_type": "code",
   "execution_count": null,
   "id": "57ab3ac4-6e9d-4b06-8502-fd443be35fbf",
   "metadata": {},
   "outputs": [],
   "source": [
    "parcerias['codigo_escola' ] = parcerias['codigo_escola'].apply(arrumar_digitos)"
   ]
  },
  {
   "cell_type": "code",
   "execution_count": null,
   "id": "b134d5fd-e493-4a2f-b4ae-24d913296544",
   "metadata": {},
   "outputs": [],
   "source": [
    "parcerias_distrito = pd.merge(parcerias, escolas, left_on='codigo_escola', right_on = 'codesc', how='left')"
   ]
  },
  {
   "cell_type": "code",
   "execution_count": null,
   "id": "0c4a5754-339f-4342-8225-beea86269923",
   "metadata": {},
   "outputs": [],
   "source": [
    "parcerias_distrito[parcerias_distrito['distrito'].isnull()]"
   ]
  },
  {
   "cell_type": "code",
   "execution_count": null,
   "id": "c5906ffa-3425-4159-babb-417db841e787",
   "metadata": {},
   "outputs": [],
   "source": [
    "parcerias_distrito = parcerias_distrito[parcerias_distrito['distrito'].notnull()].copy()"
   ]
  },
  {
   "cell_type": "code",
   "execution_count": null,
   "id": "19368320-2061-4630-b3d7-c5d55b23225d",
   "metadata": {},
   "outputs": [],
   "source": [
    "parcerias_distrito['distrito'].isnull().sum()"
   ]
  },
  {
   "cell_type": "code",
   "execution_count": null,
   "id": "6927a2eb-2777-49c5-84bc-570d1624a2ea",
   "metadata": {},
   "outputs": [],
   "source": [
    "len(parcerias_distrito) == len(parcerias)-2"
   ]
  },
  {
   "cell_type": "code",
   "execution_count": null,
   "id": "7a57d17c-3f75-45fb-9d50-89b676262a2f",
   "metadata": {},
   "outputs": [],
   "source": [
    "parcerias_distrito['valor_total'] = parcerias_distrito['valor_mensal']* MULTIPLI_PARCERIAS"
   ]
  },
  {
   "cell_type": "markdown",
   "id": "b548c5c6-b3a3-42df-b683-b1131c1a7c55",
   "metadata": {},
   "source": [
    "JOIN PLANILHA HOMERO"
   ]
  },
  {
   "cell_type": "code",
   "execution_count": null,
   "id": "c20d4cb9-ed76-40d6-abb5-d17e7ab675af",
   "metadata": {},
   "outputs": [],
   "source": [
    "pagamentos = pd.read_csv('original_data/Folha PMSP 1º semestre 2020 vf.csv', sep=';')"
   ]
  },
  {
   "cell_type": "code",
   "execution_count": null,
   "id": "b0a019d1-27db-44a5-bb87-e9faaadd8485",
   "metadata": {},
   "outputs": [],
   "source": [
    "pagamentos.info()"
   ]
  },
  {
   "cell_type": "code",
   "execution_count": null,
   "id": "73220e23-2a97-463f-93e1-ac0ced7f18ea",
   "metadata": {},
   "outputs": [],
   "source": [
    "colunas = ['ORGAO', 'REMUNERACAO BRUTA', 'DISTRITO']"
   ]
  },
  {
   "cell_type": "code",
   "execution_count": null,
   "id": "1c05cb83-76dd-4f4d-884d-7c456eff0102",
   "metadata": {},
   "outputs": [],
   "source": [
    "pagamentos = pagamentos[colunas].copy()"
   ]
  },
  {
   "cell_type": "code",
   "execution_count": null,
   "id": "7444eb0b-5e48-4b41-81cf-473bec8c5c6a",
   "metadata": {},
   "outputs": [],
   "source": [
    "pagamentos[pagamentos['ORGAO'].str.contains('EDU')]['ORGAO'].unique()"
   ]
  },
  {
   "cell_type": "code",
   "execution_count": null,
   "id": "25b1ecfa-9342-4faf-8c7b-b99b914be795",
   "metadata": {},
   "outputs": [],
   "source": [
    "sorted(pagamentos['ORGAO'].unique())"
   ]
  },
  {
   "cell_type": "code",
   "execution_count": null,
   "id": "61afe264-e868-4661-aa84-12e3d5b4f936",
   "metadata": {},
   "outputs": [],
   "source": [
    "filtro_educacao = pagamentos['ORGAO']=='SECRETARIA MUNICIPAL DE EDUCACAO'"
   ]
  },
  {
   "cell_type": "code",
   "execution_count": null,
   "id": "b6cdf5d0-c04d-4c42-8f55-a3be1ec37d72",
   "metadata": {},
   "outputs": [],
   "source": [
    "pagamentos = pagamentos[filtro_educacao].reset_index(drop=True).copy()"
   ]
  },
  {
   "cell_type": "code",
   "execution_count": null,
   "id": "c4bd82be-b5b8-45c3-b4df-0c25054d46a5",
   "metadata": {},
   "outputs": [],
   "source": [
    "sorted(pagamentos['DISTRITO'].unique())"
   ]
  },
  {
   "cell_type": "code",
   "execution_count": null,
   "id": "b05d10aa-40e2-4111-a996-3bb085dc31d8",
   "metadata": {},
   "outputs": [],
   "source": [
    "len(pagamentos['DISTRITO'].unique()) <= 96"
   ]
  },
  {
   "cell_type": "code",
   "execution_count": null,
   "id": "49add1a2-9542-4218-b5b6-9bc52b91dd63",
   "metadata": {},
   "outputs": [],
   "source": [
    "pagamentos.drop('ORGAO', axis =1, inplace=True)"
   ]
  },
  {
   "cell_type": "code",
   "execution_count": null,
   "id": "702a6a02-a2c5-4a9f-8150-72670a04ca34",
   "metadata": {},
   "outputs": [],
   "source": [
    "pagamentos.dtypes"
   ]
  },
  {
   "cell_type": "code",
   "execution_count": null,
   "id": "369d1455-c557-4f4f-84c2-62179f03b0ff",
   "metadata": {},
   "outputs": [],
   "source": [
    "#pagamentos['REMUNERACAO BRUTA'].astype(float)"
   ]
  },
  {
   "cell_type": "code",
   "execution_count": null,
   "id": "198c8239-511f-45ab-bf48-cbb66cffeeca",
   "metadata": {},
   "outputs": [],
   "source": [
    "def arrumar_pagamento(item):\n",
    "    \n",
    "    if pd.isnull(item):\n",
    "        return np.NaN\n",
    "    \n",
    "    item = str(item)\n",
    "    item = item.replace('.', '')\n",
    "    item = item.replace(',', '.')\n",
    "\n",
    "    \n",
    "    return float(item)\n",
    "    "
   ]
  },
  {
   "cell_type": "code",
   "execution_count": null,
   "id": "15b5f952-f07a-4df2-b851-e538809cfebd",
   "metadata": {},
   "outputs": [],
   "source": [
    "arrumar_pagamento('22.574,98')"
   ]
  },
  {
   "cell_type": "code",
   "execution_count": null,
   "id": "7fabb96e-707f-4456-a8ad-019ba4dcf445",
   "metadata": {},
   "outputs": [],
   "source": [
    "pagamentos['REMUNERACAO BRUTA'] = pagamentos['REMUNERACAO BRUTA'].apply(arrumar_pagamento)"
   ]
  },
  {
   "cell_type": "code",
   "execution_count": null,
   "id": "1cde4f74-0897-4576-8aaf-b2b65ba650ba",
   "metadata": {},
   "outputs": [],
   "source": [
    "agrupado_pagamentos = pagamentos.groupby('DISTRITO').sum()"
   ]
  },
  {
   "cell_type": "code",
   "execution_count": null,
   "id": "46e7c942-330c-49b8-be83-b044b5c9f881",
   "metadata": {},
   "outputs": [],
   "source": [
    "agrupado_pagamentos"
   ]
  },
  {
   "cell_type": "code",
   "execution_count": null,
   "id": "405703a3-3eae-4c1a-b1d5-65bc91606abb",
   "metadata": {},
   "outputs": [],
   "source": [
    "agrupado_pagamentos = agrupado_pagamentos.reset_index()"
   ]
  },
  {
   "cell_type": "code",
   "execution_count": null,
   "id": "e155dad2-ad16-4b3b-8d65-4c1c2c7ebead",
   "metadata": {},
   "outputs": [],
   "source": [
    "parcerias_distrito.dtypes"
   ]
  },
  {
   "cell_type": "code",
   "execution_count": null,
   "id": "0afbacc0-5531-4938-9ab2-9c78e2c5d3bb",
   "metadata": {},
   "outputs": [],
   "source": [
    "agrupado_parcerias = parcerias_distrito.groupby('distrito').sum()[['valor_total']]"
   ]
  },
  {
   "cell_type": "code",
   "execution_count": null,
   "id": "1d08f2f8-dbd0-4a56-8c7f-f2bd60f060a4",
   "metadata": {},
   "outputs": [],
   "source": [
    "agrupado_parcerias = agrupado_parcerias.reset_index()"
   ]
  },
  {
   "cell_type": "code",
   "execution_count": null,
   "id": "38d84296-09c7-4eb5-8312-2e2dc834d8b7",
   "metadata": {},
   "outputs": [],
   "source": [
    "agrupado_parcerias"
   ]
  },
  {
   "cell_type": "code",
   "execution_count": null,
   "id": "8c5e15af-5656-4830-ad8d-dd7960bdd0e6",
   "metadata": {},
   "outputs": [],
   "source": [
    "set(agrupado_parcerias['distrito'])-set(agrupado_pagamentos['DISTRITO'])"
   ]
  },
  {
   "cell_type": "code",
   "execution_count": null,
   "id": "6543bd6f-2719-4444-b898-80fe1d1fe08d",
   "metadata": {},
   "outputs": [],
   "source": [
    "set(agrupado_pagamentos['DISTRITO'])-set(agrupado_parcerias['distrito'])"
   ]
  },
  {
   "cell_type": "code",
   "execution_count": null,
   "id": "428f562f-2384-4688-b06c-9c3d0d4e6dcf",
   "metadata": {},
   "outputs": [],
   "source": [
    "df_final = pd.merge(agrupado_parcerias, agrupado_pagamentos, how='outer',\n",
    "                    left_on = 'distrito', right_on = 'DISTRITO')"
   ]
  },
  {
   "cell_type": "code",
   "execution_count": null,
   "id": "6da6cde3-2e9d-4be0-b9c1-06f6af909d6e",
   "metadata": {},
   "outputs": [],
   "source": [
    "df_final['valor_total'] = df_final['valor_total'].fillna(0)"
   ]
  },
  {
   "cell_type": "code",
   "execution_count": null,
   "id": "e4da4560-e779-4663-8d44-f39b05d9e2f6",
   "metadata": {},
   "outputs": [],
   "source": [
    "df_final['REMUNERACAO BRUTA'] = df_final['REMUNERACAO BRUTA'].fillna(0)"
   ]
  },
  {
   "cell_type": "code",
   "execution_count": null,
   "id": "d480b702-20be-4ac2-a065-6b13b9a12272",
   "metadata": {},
   "outputs": [],
   "source": [
    "df_final['total_gasto'] = df_final['REMUNERACAO BRUTA'] + df_final['valor_total']"
   ]
  },
  {
   "cell_type": "code",
   "execution_count": null,
   "id": "3688512e-8850-47b9-8a32-17705e11b827",
   "metadata": {},
   "outputs": [],
   "source": [
    "def resolver_distrito(row):\n",
    "    \n",
    "    if pd.isnull(row['distrito']):\n",
    "        return row['DISTRITO']\n",
    "    if pd.isnull(row['DISTRITO']):\n",
    "        return row['distrito']\n",
    "    \n",
    "    return row['distrito']"
   ]
  },
  {
   "cell_type": "code",
   "execution_count": null,
   "id": "7d391cd0-e3bb-4552-b9bb-bd0409313832",
   "metadata": {},
   "outputs": [],
   "source": [
    "df_final['distrito_final'] = df_final.apply(resolver_distrito, axis=1)"
   ]
  },
  {
   "cell_type": "code",
   "execution_count": null,
   "id": "d7d76bbc-d628-4c1b-b6d3-0f2475dcf2bd",
   "metadata": {},
   "outputs": [],
   "source": [
    "df_final = df_final.rename({'valor_total':'total_parcerias',\n",
    "                 'REMUNERACAO BRUTA' : 'total_servidores'},\n",
    "                axis=1)"
   ]
  },
  {
   "cell_type": "code",
   "execution_count": null,
   "id": "eaae157f-6705-4f7a-b948-4fc70a419abb",
   "metadata": {},
   "outputs": [],
   "source": [
    "df_final = df_final.drop(['distrito', 'DISTRITO'], axis=1)"
   ]
  },
  {
   "cell_type": "code",
   "execution_count": null,
   "id": "58d39488-964d-4736-9908-a76df55ffacc",
   "metadata": {},
   "outputs": [],
   "source": [
    "df_final.to_excel('despesas_regionalizadas_educacao.xlsx')"
   ]
  },
  {
   "cell_type": "code",
   "execution_count": null,
   "id": "8c93be87-b998-4fbf-b9be-221850c32735",
   "metadata": {},
   "outputs": [],
   "source": [
    "shape_distritos = gpd.read_file('original_data/SIRGAS_SHP_distrito/SIRGAS_SHP_distrito_polygon.shp')"
   ]
  },
  {
   "cell_type": "code",
   "execution_count": null,
   "id": "439b8e40-1d7f-4318-a355-38f2887a015b",
   "metadata": {},
   "outputs": [],
   "source": [
    "shape_distritos = shape_distritos.set_crs(epsg = 31983)"
   ]
  },
  {
   "cell_type": "code",
   "execution_count": null,
   "id": "d75cb30d-f25a-40a9-b1bf-47b07de76ac4",
   "metadata": {},
   "outputs": [],
   "source": [
    "df_final"
   ]
  },
  {
   "cell_type": "code",
   "execution_count": null,
   "id": "9b21007b-2270-40eb-8a2d-700992732732",
   "metadata": {},
   "outputs": [],
   "source": [
    "set(shape_distritos['ds_nome'])-set(df_final['distrito_final'])"
   ]
  },
  {
   "cell_type": "code",
   "execution_count": null,
   "id": "9cb4288d-581b-482f-b322-bbe005df74de",
   "metadata": {},
   "outputs": [],
   "source": [
    "set(df_final['distrito_final']) - set(shape_distritos['ds_nome'])"
   ]
  },
  {
   "cell_type": "code",
   "execution_count": null,
   "id": "7abbb331-8966-40cc-9031-f37fc7007c18",
   "metadata": {},
   "outputs": [],
   "source": [
    "set(df_final['distrito_final']) == set(shape_distritos['ds_nome'])"
   ]
  },
  {
   "cell_type": "code",
   "execution_count": null,
   "id": "fee0fd13-6a13-4bf2-8ebd-53e82fe87888",
   "metadata": {},
   "outputs": [],
   "source": [
    "df_final_dists = pd.merge(df_final, shape_distritos, left_on ='distrito_final',\n",
    "                         right_on='ds_nome')"
   ]
  },
  {
   "cell_type": "code",
   "execution_count": null,
   "id": "5cf408a6-4083-43cf-8d59-d12691f45e74",
   "metadata": {},
   "outputs": [],
   "source": [
    "df_final_dists = gpd.GeoDataFrame(\n",
    "    df_final_dists, geometry='geometry')"
   ]
  },
  {
   "cell_type": "code",
   "execution_count": null,
   "id": "9929632d-de11-457f-9432-a058e986ccda",
   "metadata": {},
   "outputs": [],
   "source": [
    "df_final_dists = df_final_dists.set_crs(epsg = 31983)"
   ]
  },
  {
   "cell_type": "code",
   "execution_count": null,
   "id": "73363924-d698-4f58-a377-f87bdd5ef4b0",
   "metadata": {},
   "outputs": [],
   "source": [
    "type(df_final_dists)"
   ]
  },
  {
   "cell_type": "code",
   "execution_count": null,
   "id": "efae2487-63a6-43dc-ad07-b9aca8470cc4",
   "metadata": {},
   "outputs": [],
   "source": [
    "df_final_dists['total_gasto_resum'] = df_final_dists['total_gasto']/1000000"
   ]
  },
  {
   "cell_type": "code",
   "execution_count": null,
   "id": "b5d43503-322b-4e04-b41a-073e1005573e",
   "metadata": {},
   "outputs": [],
   "source": [
    "def plot_map(df, var, title, fname=None):\n",
    "    import matplotlib.pyplot as plt\n",
    "    import os\n",
    "    fig, ax = plt.subplots(1, 1)\n",
    "    fig.set_size_inches(8.3, 11.7)\n",
    "    ax.get_xaxis().set_visible(False)\n",
    "    ax.get_yaxis().set_visible(False)\n",
    "    ax.axis('off')\n",
    "    df.plot(column=var,\n",
    "            ax=ax,\n",
    "            cmap='GnBu',\n",
    "            legend=True,\n",
    "            legend_kwds={\n",
    "                'label': f\"{var}\",\n",
    "                'format': \"%.0f milhões\"},\n",
    "           edgecolor='black')\n",
    "    plt.title(title)\n",
    "    \n",
    "    if fname is not None:\n",
    "        plt.savefig(os.path.abspath(os.path.join(\n",
    "            os.getcwd(), fname)))\n",
    "    \n",
    "    return fig"
   ]
  },
  {
   "cell_type": "code",
   "execution_count": null,
   "id": "a4948b44-d74f-4fd4-a951-a071f9d63ba3",
   "metadata": {},
   "outputs": [],
   "source": [
    "fig = plot_map(df_final_dists, 'total_gasto_resum', 'Regionalização Gastos Educação',\n",
    "              'gasto_educacao_regionalizado.jpeg')"
   ]
  },
  {
   "cell_type": "code",
   "execution_count": null,
   "id": "000b689c-c273-47ff-ba25-29416c629909",
   "metadata": {},
   "outputs": [],
   "source": []
  },
  {
   "cell_type": "code",
   "execution_count": null,
   "id": "3e55c334-98e2-4408-af0f-477423c20b65",
   "metadata": {},
   "outputs": [],
   "source": []
  }
 ],
 "metadata": {
  "kernelspec": {
   "display_name": "Python 3 (ipykernel)",
   "language": "python",
   "name": "python3"
  },
  "language_info": {
   "codemirror_mode": {
    "name": "ipython",
    "version": 3
   },
   "file_extension": ".py",
   "mimetype": "text/x-python",
   "name": "python",
   "nbconvert_exporter": "python",
   "pygments_lexer": "ipython3",
   "version": "3.8.8"
  }
 },
 "nbformat": 4,
 "nbformat_minor": 5
}
